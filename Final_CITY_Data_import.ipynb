{
 "cells": [
  {
   "cell_type": "code",
   "execution_count": 1,
   "metadata": {},
   "outputs": [],
   "source": [
    "import os\n",
    "import pandas as pd\n",
    "import requests\n",
    "import json\n",
    "import re\n",
    "from tqdm import tqdm\n",
    "import time\n",
    "import numpy as np\n",
    "idx = pd.IndexSlice\n",
    "import matplotlib.pyplot as plt\n",
    "from datetime import datetime, timedelta\n",
    "import datetime as dt\n",
    "from dateutil.relativedelta import relativedelta\n",
    "from openpyxl import load_workbook\n",
    "\n",
    "pd.set_option('display.max_colwidth', None)"
   ]
  },
  {
   "cell_type": "code",
   "execution_count": 2,
   "metadata": {},
   "outputs": [],
   "source": [
    "today_date = dt.date.today().strftime('%Y_%m_%d')"
   ]
  },
  {
   "cell_type": "code",
   "execution_count": 3,
   "metadata": {},
   "outputs": [
    {
     "data": {
      "text/plain": [
       "'/Users/beaconeconomics/Desktop/Beacon_Internal/Projects/CDM_Smith/2021_10/Code/Source'"
      ]
     },
     "execution_count": 3,
     "metadata": {},
     "output_type": "execute_result"
    }
   ],
   "source": [
    "desktop_path = os.path.join(os.path.join(os.path.expanduser('~')), 'Desktop') \n",
    "database_path = desktop_path+'/Databases'\n",
    "git_path = desktop_path +'/Beacon_Internal/Projects/CDM_Smith/2021_10/Code/Source'\n",
    "\n",
    "git_path"
   ]
  },
  {
   "cell_type": "markdown",
   "metadata": {},
   "source": [
    "# 1. RIVCOM_TAZ Shapefile"
   ]
  },
  {
   "cell_type": "code",
   "execution_count": 4,
   "metadata": {},
   "outputs": [
    {
     "data": {
      "text/html": [
       "<div>\n",
       "<style scoped>\n",
       "    .dataframe tbody tr th:only-of-type {\n",
       "        vertical-align: middle;\n",
       "    }\n",
       "\n",
       "    .dataframe tbody tr th {\n",
       "        vertical-align: top;\n",
       "    }\n",
       "\n",
       "    .dataframe thead th {\n",
       "        text-align: right;\n",
       "    }\n",
       "</style>\n",
       "<table border=\"1\" class=\"dataframe\">\n",
       "  <thead>\n",
       "    <tr style=\"text-align: right;\">\n",
       "      <th></th>\n",
       "      <th>Unnamed: 0</th>\n",
       "      <th>ID</th>\n",
       "      <th>AREA</th>\n",
       "      <th>ACRES</th>\n",
       "      <th>COUNTY</th>\n",
       "      <th>CITY</th>\n",
       "      <th>TIER2_SCAG</th>\n",
       "      <th>TAZ</th>\n",
       "    </tr>\n",
       "  </thead>\n",
       "  <tbody>\n",
       "    <tr>\n",
       "      <th>0</th>\n",
       "      <td>0</td>\n",
       "      <td>1</td>\n",
       "      <td>0.402481</td>\n",
       "      <td>257</td>\n",
       "      <td>Riverside</td>\n",
       "      <td>BANNING</td>\n",
       "      <td>43462100</td>\n",
       "      <td>1</td>\n",
       "    </tr>\n",
       "    <tr>\n",
       "      <th>1</th>\n",
       "      <td>1</td>\n",
       "      <td>2</td>\n",
       "      <td>0.101948</td>\n",
       "      <td>65</td>\n",
       "      <td>Riverside</td>\n",
       "      <td>BANNING</td>\n",
       "      <td>43462100</td>\n",
       "      <td>2</td>\n",
       "    </tr>\n",
       "  </tbody>\n",
       "</table>\n",
       "</div>"
      ],
      "text/plain": [
       "   Unnamed: 0  ID      AREA  ACRES     COUNTY     CITY  TIER2_SCAG  TAZ\n",
       "0           0   1  0.402481    257  Riverside  BANNING    43462100    1\n",
       "1           1   2  0.101948     65  Riverside  BANNING    43462100    2"
      ]
     },
     "execution_count": 4,
     "metadata": {},
     "output_type": "execute_result"
    }
   ],
   "source": [
    "df_riv = pd.read_csv(git_path+'/RIVCOM_TAZ_2021_10_20.csv')\n",
    "\n",
    "df_riv.head(2)"
   ]
  },
  {
   "cell_type": "code",
   "execution_count": 5,
   "metadata": {},
   "outputs": [
    {
     "data": {
      "text/plain": [
       "{'BANNING',\n",
       " 'BEAUMONT',\n",
       " 'BLYTHE',\n",
       " 'CALIMESA',\n",
       " 'CANYON LAKE',\n",
       " 'CATHEDRAL CITY',\n",
       " 'COACHELLA',\n",
       " 'CORONA',\n",
       " 'DESERT HOT SPRINGS',\n",
       " 'EASTVALE',\n",
       " 'HEMET',\n",
       " 'INDIAN WELLS',\n",
       " 'INDIO',\n",
       " 'JURUPA VALLEY',\n",
       " 'LA QUINTA',\n",
       " 'LAKE ELSINORE',\n",
       " 'MENIFEE',\n",
       " 'MORENO VALLEY',\n",
       " 'MURRIETA',\n",
       " 'NORCO',\n",
       " 'PALM DESERT',\n",
       " 'PALM SPRINGS',\n",
       " 'PERRIS',\n",
       " 'RANCHO MIRAGE',\n",
       " 'RIVERSIDE',\n",
       " 'SAN JACINTO',\n",
       " 'TEMECULA',\n",
       " 'Unincorporated/Not a city',\n",
       " 'WILDOMAR',\n",
       " nan}"
      ]
     },
     "execution_count": 5,
     "metadata": {},
     "output_type": "execute_result"
    }
   ],
   "source": [
    "set(df_riv.CITY)"
   ]
  },
  {
   "cell_type": "code",
   "execution_count": 6,
   "metadata": {},
   "outputs": [],
   "source": [
    "df_riv.CITY=df_riv.CITY.str.title()"
   ]
  },
  {
   "cell_type": "code",
   "execution_count": 7,
   "metadata": {},
   "outputs": [
    {
     "data": {
      "text/plain": [
       "28"
      ]
     },
     "execution_count": 7,
     "metadata": {},
     "output_type": "execute_result"
    }
   ],
   "source": [
    "shp_city= {x for x in df_riv.CITY if pd.notna(x)}\n",
    "shp_city.remove('Unincorporated/Not A City')\n",
    "len(shp_city)"
   ]
  },
  {
   "cell_type": "code",
   "execution_count": 8,
   "metadata": {},
   "outputs": [],
   "source": [
    "target_city = ['Murrieta','Wildomar','Lake Elsinore','Corona','Norco','EastVale']"
   ]
  },
  {
   "cell_type": "markdown",
   "metadata": {},
   "source": [
    "# 3. CIRB"
   ]
  },
  {
   "cell_type": "code",
   "execution_count": 9,
   "metadata": {},
   "outputs": [
    {
     "data": {
      "text/html": [
       "<div>\n",
       "<style scoped>\n",
       "    .dataframe tbody tr th:only-of-type {\n",
       "        vertical-align: middle;\n",
       "    }\n",
       "\n",
       "    .dataframe tbody tr th {\n",
       "        vertical-align: top;\n",
       "    }\n",
       "\n",
       "    .dataframe thead th {\n",
       "        text-align: right;\n",
       "    }\n",
       "</style>\n",
       "<table border=\"1\" class=\"dataframe\">\n",
       "  <thead>\n",
       "    <tr style=\"text-align: right;\">\n",
       "      <th></th>\n",
       "      <th>place</th>\n",
       "      <th>county</th>\n",
       "      <th>variable</th>\n",
       "      <th>quarter</th>\n",
       "      <th>value</th>\n",
       "      <th>value_sa</th>\n",
       "      <th>value_nsa</th>\n",
       "      <th>units</th>\n",
       "      <th>description</th>\n",
       "    </tr>\n",
       "  </thead>\n",
       "  <tbody>\n",
       "    <tr>\n",
       "      <th>0</th>\n",
       "      <td>Adelanto</td>\n",
       "      <td>San Bernardino</td>\n",
       "      <td>MULTIUNIT</td>\n",
       "      <td>1996-01-01</td>\n",
       "      <td>0.0</td>\n",
       "      <td>0.0</td>\n",
       "      <td>0</td>\n",
       "      <td>Number of Permits</td>\n",
       "      <td>Multi-Family Units</td>\n",
       "    </tr>\n",
       "    <tr>\n",
       "      <th>1</th>\n",
       "      <td>Adelanto</td>\n",
       "      <td>San Bernardino</td>\n",
       "      <td>MULTIUNIT</td>\n",
       "      <td>1996-04-01</td>\n",
       "      <td>0.0</td>\n",
       "      <td>0.0</td>\n",
       "      <td>0</td>\n",
       "      <td>Number of Permits</td>\n",
       "      <td>Multi-Family Units</td>\n",
       "    </tr>\n",
       "  </tbody>\n",
       "</table>\n",
       "</div>"
      ],
      "text/plain": [
       "      place          county   variable    quarter  value  value_sa  value_nsa  \\\n",
       "0  Adelanto  San Bernardino  MULTIUNIT 1996-01-01    0.0       0.0          0   \n",
       "1  Adelanto  San Bernardino  MULTIUNIT 1996-04-01    0.0       0.0          0   \n",
       "\n",
       "               units         description  \n",
       "0  Number of Permits  Multi-Family Units  \n",
       "1  Number of Permits  Multi-Family Units  "
      ]
     },
     "execution_count": 9,
     "metadata": {},
     "output_type": "execute_result"
    }
   ],
   "source": [
    "desktop_path = os.path.join(os.path.join(os.path.expanduser('~')), 'Desktop') \n",
    "database_path = desktop_path+'/Databases'\n",
    "\n",
    "# NOTE CIRB data contains cities.dta as well as county.dta\n",
    "df_cirb = pd.read_stata(database_path+'/California/CIRB/Cities.dta')\n",
    "df_cirb.head(2)"
   ]
  },
  {
   "cell_type": "markdown",
   "metadata": {},
   "source": [
    "# 3.1 Pull Data "
   ]
  },
  {
   "cell_type": "code",
   "execution_count": 10,
   "metadata": {},
   "outputs": [],
   "source": [
    "def pull_cirb(df,location):\n",
    "    \n",
    "    df_re = df\n",
    "    \n",
    "    cats = ['VCOMM','VHOTEL','VNRALTS','VOFFICE','VINDL','VSTORE','MULTIUNIT','SFUNITS','TOTNEW','VNRTOTAL']\n",
    "\n",
    "    mask = df_re.variable.isin(cats)& df_re.place.isin(location)\n",
    "    df_re = df_re.loc[mask]\n",
    "\n",
    "    df_re = df_re[['place','quarter','variable','value_sa','units']]\n",
    "\n",
    "   \n",
    "    df_re = df_re.pivot_table(index= ['place','quarter'], columns=['variable'], values= 'value_sa')\n",
    "    \n",
    "   \n",
    "    return df_re"
   ]
  },
  {
   "cell_type": "code",
   "execution_count": 11,
   "metadata": {},
   "outputs": [
    {
     "data": {
      "text/html": [
       "<div>\n",
       "<style scoped>\n",
       "    .dataframe tbody tr th:only-of-type {\n",
       "        vertical-align: middle;\n",
       "    }\n",
       "\n",
       "    .dataframe tbody tr th {\n",
       "        vertical-align: top;\n",
       "    }\n",
       "\n",
       "    .dataframe thead th {\n",
       "        text-align: right;\n",
       "    }\n",
       "</style>\n",
       "<table border=\"1\" class=\"dataframe\">\n",
       "  <thead>\n",
       "    <tr style=\"text-align: right;\">\n",
       "      <th></th>\n",
       "      <th>variable</th>\n",
       "      <th>MULTIUNIT</th>\n",
       "      <th>SFUNITS</th>\n",
       "      <th>TOTNEW</th>\n",
       "      <th>VCOMM</th>\n",
       "      <th>VHOTEL</th>\n",
       "      <th>VINDL</th>\n",
       "      <th>VNRALTS</th>\n",
       "      <th>VNRTOTAL</th>\n",
       "      <th>VOFFICE</th>\n",
       "      <th>VSTORE</th>\n",
       "    </tr>\n",
       "    <tr>\n",
       "      <th>place</th>\n",
       "      <th>quarter</th>\n",
       "      <th></th>\n",
       "      <th></th>\n",
       "      <th></th>\n",
       "      <th></th>\n",
       "      <th></th>\n",
       "      <th></th>\n",
       "      <th></th>\n",
       "      <th></th>\n",
       "      <th></th>\n",
       "      <th></th>\n",
       "    </tr>\n",
       "  </thead>\n",
       "  <tbody>\n",
       "    <tr>\n",
       "      <th rowspan=\"2\" valign=\"top\">Corona</th>\n",
       "      <th>1996-01-01</th>\n",
       "      <td>0.0</td>\n",
       "      <td>476.596569</td>\n",
       "      <td>495.325547</td>\n",
       "      <td>170000.0</td>\n",
       "      <td>0.0</td>\n",
       "      <td>4955664.0</td>\n",
       "      <td>4.500001e+06</td>\n",
       "      <td>9.202702e+06</td>\n",
       "      <td>0.0</td>\n",
       "      <td>170000.0</td>\n",
       "    </tr>\n",
       "    <tr>\n",
       "      <th>1996-04-01</th>\n",
       "      <td>0.0</td>\n",
       "      <td>399.560091</td>\n",
       "      <td>425.109708</td>\n",
       "      <td>3067507.0</td>\n",
       "      <td>0.0</td>\n",
       "      <td>1416662.0</td>\n",
       "      <td>1.310875e+06</td>\n",
       "      <td>7.790431e+06</td>\n",
       "      <td>0.0</td>\n",
       "      <td>3067507.0</td>\n",
       "    </tr>\n",
       "  </tbody>\n",
       "</table>\n",
       "</div>"
      ],
      "text/plain": [
       "variable           MULTIUNIT     SFUNITS      TOTNEW      VCOMM  VHOTEL  \\\n",
       "place  quarter                                                            \n",
       "Corona 1996-01-01        0.0  476.596569  495.325547   170000.0     0.0   \n",
       "       1996-04-01        0.0  399.560091  425.109708  3067507.0     0.0   \n",
       "\n",
       "variable               VINDL       VNRALTS      VNRTOTAL  VOFFICE     VSTORE  \n",
       "place  quarter                                                                \n",
       "Corona 1996-01-01  4955664.0  4.500001e+06  9.202702e+06      0.0   170000.0  \n",
       "       1996-04-01  1416662.0  1.310875e+06  7.790431e+06      0.0  3067507.0  "
      ]
     },
     "execution_count": 11,
     "metadata": {},
     "output_type": "execute_result"
    }
   ],
   "source": [
    "df_cirb = pull_cirb(df_cirb,target_city)\n",
    "df_cirb.head(2)"
   ]
  },
  {
   "cell_type": "markdown",
   "metadata": {},
   "source": [
    "# 2. ACS At CITY LEVEL"
   ]
  },
  {
   "cell_type": "code",
   "execution_count": 12,
   "metadata": {},
   "outputs": [],
   "source": [
    "class api_fetch_city:   \n",
    "    def __init__(self, variable_name, entity, database, year):\n",
    "        \n",
    "        self.year = year\n",
    "        self.base = f'https://api.census.gov/data/{self.year}/acs/'\n",
    "        self.api_base = self.base+database\n",
    "        self.api_key = 'key=bc362b9bc359b0b06cc7b4825f843315585beffc'\n",
    "        self.variable_name = \"?&get=NAME,\"+variable_name + entity\n",
    "        \n",
    "        self.api_final = f'{self.api_base}{self.variable_name}{self.api_key}'\n",
    "        \n",
    "    def request(self):\n",
    "        return requests.get(self.api_final)\n",
    "    \n",
    "    def download(self):\n",
    "        r = requests.get(self.api_final)\n",
    "        data = r.json()\n",
    "        df = pd.DataFrame(data)\n",
    "        df = df.rename(columns=df.iloc[0]).drop(df.index[0])\n",
    "        df = pd.concat([df.NAME, df.loc[:, ~df.columns.isin(['NAME'])].astype(float)],axis=1)\n",
    "        return df\n",
    "  "
   ]
  },
  {
   "cell_type": "code",
   "execution_count": 13,
   "metadata": {},
   "outputs": [],
   "source": [
    "codes = {'B25008_003E': 'pop_renter_check',\n",
    " 'B06011_001E': 'median_inc',\n",
    " 'B01003_001E': 'pop_total',\n",
    " 'B01002_001E': 'age',\n",
    " 'B02001_002E': 'pop_white',\n",
    " 'B02001_003E': 'pop_black',\n",
    " 'B25106_028E': 'Burden_30 Less than 20,000',\n",
    " 'B25106_032E': 'Burden_30 $20,000 to $34,999:',\n",
    " 'B25106_036E': 'Burden_30 $35,000 to $49,999:',\n",
    " 'B25106_040E': 'Burden_30 $50,000 to $74,999:',\n",
    " 'B25106_044E': 'Burden_30 $75,000 or more:',\n",
    " 'B25111_001E': 'Med_rent'}"
   ]
  },
  {
   "cell_type": "code",
   "execution_count": 14,
   "metadata": {},
   "outputs": [
    {
     "data": {
      "text/html": [
       "<div>\n",
       "<style scoped>\n",
       "    .dataframe tbody tr th:only-of-type {\n",
       "        vertical-align: middle;\n",
       "    }\n",
       "\n",
       "    .dataframe tbody tr th {\n",
       "        vertical-align: top;\n",
       "    }\n",
       "\n",
       "    .dataframe thead th {\n",
       "        text-align: right;\n",
       "    }\n",
       "</style>\n",
       "<table border=\"1\" class=\"dataframe\">\n",
       "  <thead>\n",
       "    <tr style=\"text-align: right;\">\n",
       "      <th></th>\n",
       "      <th>NAME</th>\n",
       "      <th>B25008_003E</th>\n",
       "      <th>state</th>\n",
       "      <th>place</th>\n",
       "    </tr>\n",
       "  </thead>\n",
       "  <tbody>\n",
       "    <tr>\n",
       "      <th>359</th>\n",
       "      <td>Moss Landing CDP, California</td>\n",
       "      <td>0.0</td>\n",
       "      <td>6.0</td>\n",
       "      <td>49488.0</td>\n",
       "    </tr>\n",
       "    <tr>\n",
       "      <th>360</th>\n",
       "      <td>Belvedere city, California</td>\n",
       "      <td>517.0</td>\n",
       "      <td>6.0</td>\n",
       "      <td>5164.0</td>\n",
       "    </tr>\n",
       "  </tbody>\n",
       "</table>\n",
       "</div>"
      ],
      "text/plain": [
       "                             NAME  B25008_003E  state    place\n",
       "359  Moss Landing CDP, California          0.0    6.0  49488.0\n",
       "360    Belvedere city, California        517.0    6.0   5164.0"
      ]
     },
     "execution_count": 14,
     "metadata": {},
     "output_type": "execute_result"
    }
   ],
   "source": [
    "city = '&for=place:*&'\n",
    "df = api_fetch_city('B25008_003E', city, 'acs5', str(2019)).download()\n",
    "mask = df.state == 6\n",
    "df = df.loc[mask, :]\n",
    "df.head(2)"
   ]
  },
  {
   "cell_type": "code",
   "execution_count": 15,
   "metadata": {
    "scrolled": true
   },
   "outputs": [
    {
     "name": "stderr",
     "output_type": "stream",
     "text": [
      "100%|██████████| 12/12 [07:11<00:00, 35.93s/it]\n"
     ]
    }
   ],
   "source": [
    "df_merge = []\n",
    "\n",
    "start_year = 2010\n",
    "for code, series in tqdm(codes.items()):\n",
    "    data = []\n",
    "    for year in range(start_year, 2020):\n",
    "        df = api_fetch_city(code, city, 'acs5', str(year)).download()\n",
    "        mask = df.state==6\n",
    "        df = df.loc[mask].drop(['state','place'],axis=1).set_index('NAME')\n",
    "        df.columns = [str(year)]\n",
    "        data.append(df)\n",
    "    \n",
    "    df_counties = pd.concat(data, axis=1)\n",
    "    df_counties = df_counties.transpose()\n",
    "    df_counties = df_counties.reset_index().melt(id_vars = 'index', value_name = series).set_index(['index','variable'])\n",
    "\n",
    "    #df_counties = df_counties.set_index(['location','time'])\n",
    "    df_merge.append(df_counties)"
   ]
  },
  {
   "cell_type": "code",
   "execution_count": 16,
   "metadata": {},
   "outputs": [],
   "source": [
    "city_final = pd.concat(df_merge,axis=1)\n",
    "city_final.reset_index(inplace=True)\n"
   ]
  },
  {
   "cell_type": "code",
   "execution_count": 17,
   "metadata": {},
   "outputs": [],
   "source": [
    "city_final[['city', 'state']] = city_final.variable.str.split(',',expand=True)"
   ]
  },
  {
   "cell_type": "code",
   "execution_count": 18,
   "metadata": {},
   "outputs": [],
   "source": [
    "regex_pat = re.compile(r'CDP|city', flags=re.IGNORECASE)\n",
    "city_final.city=city_final.city.str.replace(regex_pat, '', regex=True)"
   ]
  },
  {
   "cell_type": "code",
   "execution_count": 19,
   "metadata": {
    "scrolled": true
   },
   "outputs": [],
   "source": [
    "city_final.city = city_final.city.apply(lambda x: x.rstrip())\n"
   ]
  },
  {
   "cell_type": "markdown",
   "metadata": {},
   "source": [
    "# Count of Cities from shapefile in each data source"
   ]
  },
  {
   "cell_type": "code",
   "execution_count": 20,
   "metadata": {},
   "outputs": [],
   "source": [
    "set2= set(city_final.city)"
   ]
  },
  {
   "cell_type": "code",
   "execution_count": 21,
   "metadata": {},
   "outputs": [
    {
     "data": {
      "text/plain": [
       "27"
      ]
     },
     "execution_count": 21,
     "metadata": {},
     "output_type": "execute_result"
    }
   ],
   "source": [
    "acs_shp=(shp_city.intersection(set2))\n",
    "len(acs_shp)"
   ]
  },
  {
   "cell_type": "code",
   "execution_count": 22,
   "metadata": {},
   "outputs": [
    {
     "ename": "AttributeError",
     "evalue": "'DataFrame' object has no attribute 'place'",
     "output_type": "error",
     "traceback": [
      "\u001b[0;31m---------------------------------------------------------------------------\u001b[0m",
      "\u001b[0;31mAttributeError\u001b[0m                            Traceback (most recent call last)",
      "\u001b[0;32m<ipython-input-22-117646fcc99b>\u001b[0m in \u001b[0;36m<module>\u001b[0;34m\u001b[0m\n\u001b[0;32m----> 1\u001b[0;31m \u001b[0mset3\u001b[0m \u001b[0;34m=\u001b[0m \u001b[0mset\u001b[0m\u001b[0;34m(\u001b[0m\u001b[0mdf_cirb\u001b[0m\u001b[0;34m.\u001b[0m\u001b[0mplace\u001b[0m\u001b[0;34m)\u001b[0m\u001b[0;34m\u001b[0m\u001b[0;34m\u001b[0m\u001b[0m\n\u001b[0m",
      "\u001b[0;32m~/opt/anaconda3/lib/python3.7/site-packages/pandas/core/generic.py\u001b[0m in \u001b[0;36m__getattr__\u001b[0;34m(self, name)\u001b[0m\n\u001b[1;32m   5272\u001b[0m             \u001b[0;32mif\u001b[0m \u001b[0mself\u001b[0m\u001b[0;34m.\u001b[0m\u001b[0m_info_axis\u001b[0m\u001b[0;34m.\u001b[0m\u001b[0m_can_hold_identifiers_and_holds_name\u001b[0m\u001b[0;34m(\u001b[0m\u001b[0mname\u001b[0m\u001b[0;34m)\u001b[0m\u001b[0;34m:\u001b[0m\u001b[0;34m\u001b[0m\u001b[0;34m\u001b[0m\u001b[0m\n\u001b[1;32m   5273\u001b[0m                 \u001b[0;32mreturn\u001b[0m \u001b[0mself\u001b[0m\u001b[0;34m[\u001b[0m\u001b[0mname\u001b[0m\u001b[0;34m]\u001b[0m\u001b[0;34m\u001b[0m\u001b[0;34m\u001b[0m\u001b[0m\n\u001b[0;32m-> 5274\u001b[0;31m             \u001b[0;32mreturn\u001b[0m \u001b[0mobject\u001b[0m\u001b[0;34m.\u001b[0m\u001b[0m__getattribute__\u001b[0m\u001b[0;34m(\u001b[0m\u001b[0mself\u001b[0m\u001b[0;34m,\u001b[0m \u001b[0mname\u001b[0m\u001b[0;34m)\u001b[0m\u001b[0;34m\u001b[0m\u001b[0;34m\u001b[0m\u001b[0m\n\u001b[0m\u001b[1;32m   5275\u001b[0m \u001b[0;34m\u001b[0m\u001b[0m\n\u001b[1;32m   5276\u001b[0m     \u001b[0;32mdef\u001b[0m \u001b[0m__setattr__\u001b[0m\u001b[0;34m(\u001b[0m\u001b[0mself\u001b[0m\u001b[0;34m,\u001b[0m \u001b[0mname\u001b[0m\u001b[0;34m:\u001b[0m \u001b[0mstr\u001b[0m\u001b[0;34m,\u001b[0m \u001b[0mvalue\u001b[0m\u001b[0;34m)\u001b[0m \u001b[0;34m->\u001b[0m \u001b[0;32mNone\u001b[0m\u001b[0;34m:\u001b[0m\u001b[0;34m\u001b[0m\u001b[0;34m\u001b[0m\u001b[0m\n",
      "\u001b[0;31mAttributeError\u001b[0m: 'DataFrame' object has no attribute 'place'"
     ]
    }
   ],
   "source": [
    "set3 = set(df_cirb.place)"
   ]
  },
  {
   "cell_type": "code",
   "execution_count": null,
   "metadata": {},
   "outputs": [],
   "source": [
    "cirb_shp=(shp_city.intersection(set3))\n",
    "len(cirb_shp)"
   ]
  },
  {
   "cell_type": "code",
   "execution_count": null,
   "metadata": {},
   "outputs": [],
   "source": [
    "print(set3&shp_city)"
   ]
  },
  {
   "cell_type": "code",
   "execution_count": null,
   "metadata": {},
   "outputs": [],
   "source": [
    "set4 = set(df_hp.city)"
   ]
  },
  {
   "cell_type": "code",
   "execution_count": null,
   "metadata": {},
   "outputs": [],
   "source": [
    "dq_shp=(shp_city.intersection(set4))\n",
    "len(dq_shp)"
   ]
  },
  {
   "cell_type": "code",
   "execution_count": null,
   "metadata": {},
   "outputs": [],
   "source": [
    "d1=dict(enumerate(cirb_city))\n",
    "d1"
   ]
  },
  {
   "cell_type": "code",
   "execution_count": null,
   "metadata": {},
   "outputs": [],
   "source": [
    "#city_final = city_final.loc[:, ~city_final.columns.duplicated()]"
   ]
  },
  {
   "cell_type": "code",
   "execution_count": null,
   "metadata": {
    "scrolled": true
   },
   "outputs": [],
   "source": [
    "#mask=city_final.city.isin(cirb_city)\n",
    "#city_final= city_final.loc[mask,:]\n",
    "#city_final"
   ]
  },
  {
   "cell_type": "markdown",
   "metadata": {},
   "source": [
    "# 2.1.1 ACS Final Format for mergeing "
   ]
  },
  {
   "cell_type": "code",
   "execution_count": null,
   "metadata": {
    "scrolled": false
   },
   "outputs": [],
   "source": [
    "city_final.rename(columns={'index':'year'},inplace=True)\n",
    "city_final.year = pd.PeriodIndex(pd.to_datetime(city_final.year),freq='A')\n",
    "mask= (city_final.city.isin(city_list))\n",
    "city_final= city_final.loc[mask,:]\n",
    "city_final.set_index(['city','year'],inplace=True)\n",
    "city_final.drop(columns=['state','variable'],inplace=True)\n",
    "city_final"
   ]
  },
  {
   "cell_type": "code",
   "execution_count": null,
   "metadata": {},
   "outputs": [],
   "source": [
    "city_final = city_final.pivot_table(index= ['city','year'])"
   ]
  },
  {
   "cell_type": "code",
   "execution_count": null,
   "metadata": {},
   "outputs": [],
   "source": [
    "city_final.index = pd.MultiIndex.from_arrays([\n",
    "    city_final.index.get_level_values(0),\n",
    "    pd.PeriodIndex(city_final.index.get_level_values(1), freq='A')])"
   ]
  },
  {
   "cell_type": "markdown",
   "metadata": {},
   "source": [
    "## 2.2 Convert to annual"
   ]
  },
  {
   "cell_type": "code",
   "execution_count": null,
   "metadata": {},
   "outputs": [],
   "source": [
    "city_final"
   ]
  },
  {
   "cell_type": "code",
   "execution_count": null,
   "metadata": {},
   "outputs": [],
   "source": [
    "manip = {'MULTIUNIT': 'sum',\n",
    "                    'SFUNITS': 'sum',\n",
    "                    'VCOMM': 'mean',\n",
    "                    'VHOTEL': 'mean',\n",
    "                    'VINDL': 'mean',\n",
    "                    'VNRALTS': 'mean',\n",
    "                    'VOFFICE': 'mean',\n",
    "                    'VSTORE': 'mean',\n",
    "                    'TOTNEW': 'sum',\n",
    "                    'VNRTOTAL': 'sum'}"
   ]
  },
  {
   "cell_type": "code",
   "execution_count": null,
   "metadata": {},
   "outputs": [],
   "source": [
    "df_cirb = df_cirb.reset_index().set_index('quarter').groupby('place').resample('A').agg(manip)"
   ]
  },
  {
   "cell_type": "markdown",
   "metadata": {},
   "source": [
    "# 4. Merge CIRB / ACS"
   ]
  },
  {
   "cell_type": "markdown",
   "metadata": {},
   "source": [
    "## 4.1 Check county match"
   ]
  },
  {
   "cell_type": "code",
   "execution_count": null,
   "metadata": {},
   "outputs": [],
   "source": [
    "df_cirb.index.get_level_values(0).unique()"
   ]
  },
  {
   "cell_type": "code",
   "execution_count": null,
   "metadata": {},
   "outputs": [],
   "source": [
    "city_final.index.get_level_values(0).unique()"
   ]
  },
  {
   "cell_type": "markdown",
   "metadata": {},
   "source": [
    "# 4.1.1 Double check list comprehension "
   ]
  },
  {
   "cell_type": "code",
   "execution_count": null,
   "metadata": {},
   "outputs": [],
   "source": [
    "[x for x in df_cirb.index.get_level_values(0).unique() if x in city_final.index.get_level_values(0).unique()]"
   ]
  },
  {
   "cell_type": "markdown",
   "metadata": {},
   "source": [
    "## 4.2 Check time series match"
   ]
  },
  {
   "cell_type": "code",
   "execution_count": null,
   "metadata": {},
   "outputs": [],
   "source": [
    "df_cirb.index.get_level_values(1).unique()"
   ]
  },
  {
   "cell_type": "code",
   "execution_count": null,
   "metadata": {},
   "outputs": [],
   "source": [
    "df_cirb.index"
   ]
  },
  {
   "cell_type": "code",
   "execution_count": null,
   "metadata": {},
   "outputs": [],
   "source": [
    "city_final.index.get_level_values(1).unique()"
   ]
  },
  {
   "cell_type": "markdown",
   "metadata": {},
   "source": [
    "# 4.2.2 Convert to PeriodIndex "
   ]
  },
  {
   "cell_type": "code",
   "execution_count": null,
   "metadata": {},
   "outputs": [],
   "source": [
    "df_cirb.index = pd.MultiIndex.from_arrays([\n",
    "    df_cirb.index.get_level_values(0),\n",
    "    pd.PeriodIndex(df_cirb.index.get_level_values(1), freq='A')])\n",
    "df_cirb.index[:3]"
   ]
  },
  {
   "cell_type": "markdown",
   "metadata": {},
   "source": [
    "# 4.3 CIRB/ ACS Merge"
   ]
  },
  {
   "cell_type": "markdown",
   "metadata": {},
   "source": [
    "## Axis =1 "
   ]
  },
  {
   "cell_type": "code",
   "execution_count": null,
   "metadata": {},
   "outputs": [],
   "source": [
    "frames = [city_final,df_cirb]  # Or perform operations on the DFs\n",
    "result = pd.concat(frames,axis=1)"
   ]
  },
  {
   "cell_type": "code",
   "execution_count": null,
   "metadata": {},
   "outputs": [],
   "source": [
    "result[15:24]"
   ]
  },
  {
   "cell_type": "markdown",
   "metadata": {},
   "source": [
    "# 5. DataQuick"
   ]
  },
  {
   "cell_type": "code",
   "execution_count": null,
   "metadata": {},
   "outputs": [],
   "source": [
    "df_hp = pd.read_stata(database_path+\"/California/DataQuick/City.dta\")\n",
    "df_hp.head(3)"
   ]
  },
  {
   "cell_type": "code",
   "execution_count": null,
   "metadata": {},
   "outputs": [],
   "source": [
    "df_hp.variable.unique()"
   ]
  },
  {
   "cell_type": "code",
   "execution_count": null,
   "metadata": {},
   "outputs": [],
   "source": [
    "def pull_dq(df, location):\n",
    "    \n",
    "    df_re = df\n",
    "    \n",
    "    mask =  (df_re.city.isin(location))\n",
    "    df_re = df_re.loc[mask]\n",
    "   \n",
    "    df_re = df_re[['city','quarter','value','variable']] \n",
    "   \n",
    "    return df_re"
   ]
  },
  {
   "cell_type": "code",
   "execution_count": null,
   "metadata": {},
   "outputs": [],
   "source": [
    "dq_data=pull_dq(df_hp, city_list)\n",
    "dq_data"
   ]
  },
  {
   "cell_type": "markdown",
   "metadata": {},
   "source": [
    "# 5. Merge CIRB / ACS"
   ]
  },
  {
   "cell_type": "code",
   "execution_count": null,
   "metadata": {},
   "outputs": [],
   "source": [
    "## 5.1 Check county match"
   ]
  },
  {
   "cell_type": "code",
   "execution_count": null,
   "metadata": {},
   "outputs": [],
   "source": [
    "dq_data.index.get_level_values(0).unique()"
   ]
  },
  {
   "cell_type": "code",
   "execution_count": null,
   "metadata": {},
   "outputs": [],
   "source": [
    "df_cirb.index.get_level_values(0).unique()"
   ]
  },
  {
   "cell_type": "markdown",
   "metadata": {},
   "source": [
    "## 4.2 Check time series match"
   ]
  },
  {
   "cell_type": "code",
   "execution_count": null,
   "metadata": {},
   "outputs": [],
   "source": [
    "df_cirb.index.get_level_values(1).unique()"
   ]
  },
  {
   "cell_type": "code",
   "execution_count": null,
   "metadata": {},
   "outputs": [],
   "source": [
    "dq_data.index.get_level_values(1).unique()"
   ]
  },
  {
   "cell_type": "markdown",
   "metadata": {},
   "source": [
    "### 4.2.2 Convert to period index"
   ]
  },
  {
   "cell_type": "code",
   "execution_count": null,
   "metadata": {},
   "outputs": [],
   "source": [
    "df_cirb.index = pd.MultiIndex.from_arrays([\n",
    "    df_cirb.index.get_level_values(0),\n",
    "    pd.PeriodIndex(df_cirb.index.get_level_values(1), freq='A')])\n",
    "df_cirb.index[:3]"
   ]
  },
  {
   "cell_type": "code",
   "execution_count": null,
   "metadata": {},
   "outputs": [],
   "source": [
    "dq_data.index = pd.MultiIndex.from_arrays([\n",
    "    dq_data.index.get_level_values(0),\n",
    "    pd.PeriodIndex(dq_data.index.get_level_values(1), freq='A')])\n",
    "dq_data.index[:3]"
   ]
  },
  {
   "cell_type": "code",
   "execution_count": null,
   "metadata": {},
   "outputs": [],
   "source": [
    "dq_data = dq_data.set_index('quarter').groupby('city').resample('A').sum()"
   ]
  },
  {
   "cell_type": "markdown",
   "metadata": {},
   "source": [
    "# 4.3 CIRB (28) / Data Quick (6) Merge"
   ]
  },
  {
   "cell_type": "code",
   "execution_count": null,
   "metadata": {},
   "outputs": [],
   "source": [
    "df_merge_2 = pd.concat([df_cirb,dq_data],axis=1)\n",
    "df_merge_2.head(150)"
   ]
  },
  {
   "cell_type": "markdown",
   "metadata": {},
   "source": [
    "# 4.4 Merge CIRB(28) /ACS(27)/Data Quick(6)"
   ]
  },
  {
   "cell_type": "code",
   "execution_count": null,
   "metadata": {},
   "outputs": [],
   "source": [
    "df_merge_final = pd.concat([df_cirb,dq_data,city_final],axis=1)\n",
    "df_merge_final[16:20]"
   ]
  },
  {
   "cell_type": "markdown",
   "metadata": {},
   "source": [
    "# 7. QCEW (1)"
   ]
  },
  {
   "cell_type": "code",
   "execution_count": null,
   "metadata": {},
   "outputs": [],
   "source": [
    "df_qc = pd.read_stata(database_path+\"/National/QCEW/counties.dta\")\n",
    "df_qc.rename(columns = {'size':'est_size'},inplace=True)\n",
    "\n",
    "df_qc.area = [x.split(',')[0].replace('County', '').rstrip() for x in df_qc.area]\n",
    "\n",
    "df_qc.head(2)"
   ]
  },
  {
   "cell_type": "code",
   "execution_count": null,
   "metadata": {},
   "outputs": [],
   "source": [
    "print(set(df_qc['area']) & set(cirb_city))"
   ]
  },
  {
   "cell_type": "code",
   "execution_count": null,
   "metadata": {},
   "outputs": [],
   "source": [
    "print(set(df_qc['area']) & shp_city)"
   ]
  },
  {
   "cell_type": "code",
   "execution_count": null,
   "metadata": {},
   "outputs": [],
   "source": [
    "mask = df_qc['area'].isin(shp_city)\n",
    "df_qc=df_qc.loc[mask,:]\n",
    "df_qc"
   ]
  },
  {
   "cell_type": "code",
   "execution_count": null,
   "metadata": {},
   "outputs": [],
   "source": [
    "mask = (df_qc.own == 'Total Covered') & (df_qc.est_size == 'All establishment sizes') \n",
    "\n",
    "df_qc_total = df_qc.loc[mask, ['area', 'numest','quarter','Wage','emplt']].set_index(['area','quarter'])\n",
    "\n",
    "df_qc_total = df_qc_total.reset_index().set_index('quarter').groupby('area').resample('A').agg({'Wage':'sum', 'emplt':'mean'})\n",
    "\n",
    "df_qc_total.head(2)"
   ]
  },
  {
   "cell_type": "code",
   "execution_count": null,
   "metadata": {},
   "outputs": [],
   "source": [
    "df_qc_total.index = pd.MultiIndex.from_arrays([\n",
    "    df_qc_total.index.get_level_values(0),\n",
    "    pd.PeriodIndex(df_qc_total.index.get_level_values(1), freq='A')])\n",
    "\n",
    "df_qc_total.head(2)"
   ]
  },
  {
   "cell_type": "markdown",
   "metadata": {},
   "source": [
    "# 6.2 Check time series match"
   ]
  },
  {
   "cell_type": "code",
   "execution_count": null,
   "metadata": {},
   "outputs": [],
   "source": [
    "df_qc_total.index.get_level_values(1).unique()"
   ]
  },
  {
   "cell_type": "code",
   "execution_count": null,
   "metadata": {},
   "outputs": [],
   "source": [
    "df_qc_total.index.get_level_values(0).unique()"
   ]
  },
  {
   "cell_type": "markdown",
   "metadata": {},
   "source": [
    "# 6.3  QCEW Merge"
   ]
  },
  {
   "cell_type": "code",
   "execution_count": null,
   "metadata": {},
   "outputs": [],
   "source": [
    "_merge_final = pd.concat([df_cirb,dq_data,city_final,df_qc_total],axis=1)\n",
    "_merge_final.head(2)"
   ]
  },
  {
   "cell_type": "markdown",
   "metadata": {},
   "source": [
    "# 7 . Population"
   ]
  },
  {
   "cell_type": "markdown",
   "metadata": {},
   "source": [
    "## 1990-2000 (19)"
   ]
  },
  {
   "cell_type": "code",
   "execution_count": null,
   "metadata": {},
   "outputs": [],
   "source": [
    "df = pd.read_excel(git_path+'/DOF/E-4_90-00_Rpt.xls',\n",
    "    sheet_name =1,\n",
    "    header = 3,\n",
    "    index_col=0,\n",
    "    skipfooter=2\n",
    ").iloc[2:,:] #skip first two rows\n",
    "df.head(2)"
   ]
  },
  {
   "cell_type": "code",
   "execution_count": null,
   "metadata": {},
   "outputs": [],
   "source": [
    "df = df.transpose().reset_index()\n",
    "df.head(2)"
   ]
  },
  {
   "cell_type": "code",
   "execution_count": null,
   "metadata": {},
   "outputs": [],
   "source": [
    "df_1990 = df.melt(id_vars='index').rename(columns={'index':'date'})#.set_index(['date','City'])\n",
    "df_1990.head(2)"
   ]
  },
  {
   "cell_type": "code",
   "execution_count": null,
   "metadata": {},
   "outputs": [],
   "source": [
    "df_1990['City']=df_1990['City'].str.rstrip()"
   ]
  },
  {
   "cell_type": "code",
   "execution_count": null,
   "metadata": {},
   "outputs": [],
   "source": [
    "mask= (df_1990['City'].isin(city_list))\n",
    "df_1990_f= df_1990.loc[mask,:]"
   ]
  },
  {
   "cell_type": "code",
   "execution_count": null,
   "metadata": {},
   "outputs": [],
   "source": [
    "df_1990_f = df_1990_f.dropna()\n",
    "df_1990_f"
   ]
  },
  {
   "cell_type": "code",
   "execution_count": null,
   "metadata": {},
   "outputs": [],
   "source": [
    " df_1990_f = df_1990_f.pivot_table(index= ['City','date'],values='value',aggfunc='last')"
   ]
  },
  {
   "cell_type": "code",
   "execution_count": null,
   "metadata": {},
   "outputs": [],
   "source": [
    "df_1990_f.index = pd.MultiIndex.from_arrays([\n",
    "    df_1990_f.index.get_level_values(0),\n",
    "    pd.PeriodIndex(df_1990_f.index.get_level_values(1), freq='A')])"
   ]
  },
  {
   "cell_type": "markdown",
   "metadata": {},
   "source": [
    "## 2010-2020 (19)"
   ]
  },
  {
   "cell_type": "code",
   "execution_count": null,
   "metadata": {
    "scrolled": true
   },
   "outputs": [],
   "source": [
    "df2 = pd.read_excel(git_path+'/DOF/E-4_2021InternetVersion.xlsx',\n",
    "    sheet_name =2,\n",
    "    header = 1,\n",
    "    index_col=0,\n",
    "    skipfooter=1\n",
    ").iloc[1:712, :12]\n",
    "df2.tail(4)"
   ]
  },
  {
   "cell_type": "code",
   "execution_count": null,
   "metadata": {},
   "outputs": [],
   "source": [
    "df2 = df2.transpose().reset_index()\n",
    "df2.head(2)"
   ]
  },
  {
   "cell_type": "code",
   "execution_count": null,
   "metadata": {},
   "outputs": [],
   "source": [
    "df_2000 = df2.melt(id_vars='index').rename(columns={'index':'date',\n",
    "                                             'COUNTY/CITY': 'city', \n",
    "                                            'value' : 'value_2000'})\n",
    "df_2000.date = pd.to_datetime(df_2000.date)\n",
    "#df_2000.set_index(['date','City'],inplace=True)\n",
    "df_2000.head(2)"
   ]
  },
  {
   "cell_type": "code",
   "execution_count": null,
   "metadata": {},
   "outputs": [],
   "source": [
    "print(len(set(df_2000['city'])& set(city_list)))"
   ]
  },
  {
   "cell_type": "code",
   "execution_count": null,
   "metadata": {},
   "outputs": [],
   "source": [
    "mask= (df_2000['city'].isin(city_list))\n",
    "df_2000_f= df_2000.loc[mask,:]"
   ]
  },
  {
   "cell_type": "code",
   "execution_count": null,
   "metadata": {},
   "outputs": [],
   "source": [
    "df_2000_f = df_2000_f.pivot_table(index= ['city','date'])"
   ]
  },
  {
   "cell_type": "code",
   "execution_count": null,
   "metadata": {},
   "outputs": [],
   "source": [
    "df_2000_f.index = pd.MultiIndex.from_arrays([\n",
    "    df_2000_f.index.get_level_values(0),\n",
    "    pd.PeriodIndex(df_2000_f.index.get_level_values(1), freq='A')])"
   ]
  },
  {
   "cell_type": "markdown",
   "metadata": {},
   "source": [
    "# 7. Population Merge"
   ]
  },
  {
   "cell_type": "code",
   "execution_count": null,
   "metadata": {},
   "outputs": [],
   "source": [
    "df_1990_f.index.get_level_values(0).unique()"
   ]
  },
  {
   "cell_type": "code",
   "execution_count": null,
   "metadata": {},
   "outputs": [],
   "source": [
    "df_2000_f.index.get_level_values(0).unique()"
   ]
  },
  {
   "cell_type": "code",
   "execution_count": null,
   "metadata": {},
   "outputs": [],
   "source": [
    "df_1990_f.index.get_level_values(1).unique()"
   ]
  },
  {
   "cell_type": "code",
   "execution_count": null,
   "metadata": {},
   "outputs": [],
   "source": [
    "df_2000_f.index.get_level_values(1).unique()"
   ]
  },
  {
   "cell_type": "code",
   "execution_count": null,
   "metadata": {},
   "outputs": [],
   "source": [
    "df_pop_city = pd.concat([df_1990_f, df_2000_f],axis=0)\n",
    "df_pop_city\n"
   ]
  },
  {
   "cell_type": "markdown",
   "metadata": {},
   "source": [
    "# 8. All data source merge (CIRB(28)/ ACS(27)/ Population(19)/ DataQuick(6)/QCEW(1)"
   ]
  },
  {
   "cell_type": "markdown",
   "metadata": {},
   "source": [
    "# First Three "
   ]
  },
  {
   "cell_type": "code",
   "execution_count": null,
   "metadata": {},
   "outputs": [],
   "source": [
    "frames = [city_final,df_cirb,df_1990_f, df_2000_f]\n",
    "final = pd.concat(frames, axis=1)\n",
    "final[13:20]"
   ]
  },
  {
   "cell_type": "markdown",
   "metadata": {},
   "source": [
    "# All (7X27)"
   ]
  },
  {
   "cell_type": "code",
   "execution_count": null,
   "metadata": {},
   "outputs": [],
   "source": [
    "frames2 = [city_final,df_cirb,df_1990_f, df_2000_f,dq_data,df_qc_total]\n",
    "final_f = pd.concat(frames2, axis=1)\n",
    "final_f[13:20]"
   ]
  },
  {
   "cell_type": "code",
   "execution_count": null,
   "metadata": {},
   "outputs": [],
   "source": [
    "#9"
   ]
  },
  {
   "cell_type": "code",
   "execution_count": null,
   "metadata": {},
   "outputs": [],
   "source": [
    "path = 'Input/Model_dictionary/'\n",
    "dict_files = [x for x in os.listdir(path) if x.endswith('.xlsx') and not x.startswith('~')]\n",
    "path = 'Input/Model_dictionary/'\n",
    "series = pd.read_excel(path + dict_files[0],sheet_name='Series')\n",
    "series = series.loc[series.Series!=0]\n",
    "var_list = []\n",
    "for series_name, entity_name in zip(series.Series, series.Series_prefix.dropna()):\n",
    "    entity_list = entity_name.split(',')\n",
    "    for ent in entity_list:\n",
    "        if ent=='US':\n",
    "            var_list.append(series_name[1:])\n",
    "            \n",
    "var_list[-2:]"
   ]
  },
  {
   "cell_type": "code",
   "execution_count": null,
   "metadata": {},
   "outputs": [],
   "source": [
    "path = 'Input/Oxford/2021Q3/'\n",
    "os.listdir(path)"
   ]
  },
  {
   "cell_type": "code",
   "execution_count": null,
   "metadata": {},
   "outputs": [],
   "source": [
    "def oe_to_df_A(path, vars_important_list):\n",
    "    \n",
    "    df = pd.read_excel(path, sheet_name='Annual', header=1)\n",
    "    # Select rows\n",
    "    mask = df['Indicator code'].isin(vars_important_list)\n",
    "    df = df.loc[mask]\n",
    "    \n",
    "    # Select cols\n",
    "    years = df.filter(regex=r'\\d{4}').columns.values.tolist()\n",
    "    other_cols = ['Indicator code']\n",
    "    cols_final = other_cols+years \n",
    "    \n",
    "    # Pivot table\n",
    "    df = df[cols_final].pivot_table(columns='Indicator code')\n",
    "    \n",
    "    # Datetime change\n",
    "    df.index = [(x).replace(\" \",'') for x in df.index] #Removes space\n",
    "    df.index = pd.PeriodIndex(pd.to_datetime(df.index),freq='A')\n",
    "    return df"
   ]
  },
  {
   "cell_type": "code",
   "execution_count": null,
   "metadata": {},
   "outputs": [],
   "source": [
    "df_oe = oe_to_df_A('Input/Oxford/2021Q3/2021_10_08_Sep21_2_WSJ_ATL_annual.xlsx',var_list)\n",
    "df_oe = oe_annual.add_prefix('US_')\n",
    "df_oe['2020':].head(2)"
   ]
  },
  {
   "cell_type": "markdown",
   "metadata": {},
   "source": [
    "#10"
   ]
  },
  {
   "cell_type": "code",
   "execution_count": null,
   "metadata": {},
   "outputs": [],
   "source": [
    "import sys"
   ]
  },
  {
   "cell_type": "code",
   "execution_count": null,
   "metadata": {},
   "outputs": [],
   "source": [
    "print(sys.path)"
   ]
  },
  {
   "cell_type": "code",
   "execution_count": null,
   "metadata": {},
   "outputs": [],
   "source": [
    "import sqlite3"
   ]
  },
  {
   "cell_type": "code",
   "execution_count": null,
   "metadata": {
    "scrolled": false
   },
   "outputs": [],
   "source": [
    "\n",
    "sys.path.append('Modules')\n",
    "from Forecast_data_state_20210916 import * \n",
    "\n",
    "instance = merge_data_state(state = 'California', \n",
    "                            state_prefix = 'CA_')\n",
    "instance.download_datasets()\n",
    "instance.download_tabs(True)\n",
    "df_state = instance.create_df(annual=True)\n",
    "df_state = df_state['1980':]\n",
    "df_state.head(2)"
   ]
  },
  {
   "cell_type": "markdown",
   "metadata": {},
   "source": [
    "# acs/ cirb/ dataquick"
   ]
  },
  {
   "cell_type": "code",
   "execution_count": null,
   "metadata": {},
   "outputs": [],
   "source": [
    "frames = [city_final,df_cirb, dq_data]\n",
    "final = pd.concat(frames,axis=1)\n"
   ]
  },
  {
   "cell_type": "markdown",
   "metadata": {},
   "source": [
    "# df_1990_f\n",
    "# 'Corona', 'Lake Elsinore', 'Norco', 'Riverside'"
   ]
  },
  {
   "cell_type": "code",
   "execution_count": null,
   "metadata": {},
   "outputs": [],
   "source": [
    "DOF_1 = pd.concat([city_final,df_cirb, dq_data, df_1990_f],axis=1)\n",
    "DOF_1"
   ]
  },
  {
   "cell_type": "markdown",
   "metadata": {},
   "source": [
    "# df_2000_f\n",
    "# 'Eastvale', 'Jurupa Valley'"
   ]
  },
  {
   "cell_type": "code",
   "execution_count": null,
   "metadata": {},
   "outputs": [],
   "source": [
    "DOF_2 = pd.concat([city_final,df_cirb, dq_data, df_2000_f], axis=1)"
   ]
  },
  {
   "cell_type": "code",
   "execution_count": null,
   "metadata": {},
   "outputs": [],
   "source": [
    "DOF_2"
   ]
  },
  {
   "cell_type": "markdown",
   "metadata": {},
   "source": [
    "# final merge"
   ]
  },
  {
   "cell_type": "markdown",
   "metadata": {},
   "source": [
    "# 1.1 DOF_1"
   ]
  },
  {
   "cell_type": "code",
   "execution_count": null,
   "metadata": {},
   "outputs": [],
   "source": [
    "city_list = ['Corona', 'Riverside', 'Norco', 'Eastvale', 'Jurupa Valley', 'Lake Elsinore']"
   ]
  },
  {
   "cell_type": "code",
   "execution_count": null,
   "metadata": {},
   "outputs": [],
   "source": [
    "merged_city = pd.concat([df_oe,df_state],axis=1)\n",
    "merged_city.tail(5)"
   ]
  },
  {
   "cell_type": "code",
   "execution_count": null,
   "metadata": {},
   "outputs": [],
   "source": [
    "df_f = DOF_1.reset_index(level=0).join(merged_city) \n",
    "df_f.columns"
   ]
  },
  {
   "cell_type": "code",
   "execution_count": null,
   "metadata": {},
   "outputs": [],
   "source": [
    "df_f.tail(3)"
   ]
  },
  {
   "cell_type": "code",
   "execution_count": null,
   "metadata": {},
   "outputs": [],
   "source": [
    "for city in city_list:\n",
    "    mask = (df_f['level_0']==city)\n",
    "    merged_city = df_f.loc[mask,:]\n",
    "    merged_city.to_csv('DOF_1_model_data' + city +'.csv')"
   ]
  },
  {
   "cell_type": "markdown",
   "metadata": {},
   "source": [
    "# 1.2 DOF_2"
   ]
  },
  {
   "cell_type": "code",
   "execution_count": null,
   "metadata": {},
   "outputs": [],
   "source": [
    "d_f = DOF_2.reset_index(level=0).join(merged_city) \n",
    "d_f.columns"
   ]
  },
  {
   "cell_type": "code",
   "execution_count": null,
   "metadata": {},
   "outputs": [],
   "source": [
    "d_f.tail(3)"
   ]
  },
  {
   "cell_type": "code",
   "execution_count": null,
   "metadata": {},
   "outputs": [],
   "source": [
    "for city in city_list:\n",
    "    mask = (d_f['level_0']==city)\n",
    "    merged_city = d_f.loc[mask,:]\n",
    "    merged_city.to_csv('DOF_2_model_data' + city +'.csv')"
   ]
  },
  {
   "cell_type": "code",
   "execution_count": null,
   "metadata": {},
   "outputs": [],
   "source": []
  }
 ],
 "metadata": {
  "kernelspec": {
   "display_name": "Python 3",
   "language": "python",
   "name": "python3"
  },
  "language_info": {
   "codemirror_mode": {
    "name": "ipython",
    "version": 3
   },
   "file_extension": ".py",
   "mimetype": "text/x-python",
   "name": "python",
   "nbconvert_exporter": "python",
   "pygments_lexer": "ipython3",
   "version": "3.7.6"
  }
 },
 "nbformat": 4,
 "nbformat_minor": 4
}
